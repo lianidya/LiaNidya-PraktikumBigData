{
  "nbformat": 4,
  "nbformat_minor": 0,
  "metadata": {
    "colab": {
      "provenance": []
    },
    "kernelspec": {
      "name": "python3",
      "display_name": "Python 3"
    },
    "language_info": {
      "name": "python"
    }
  },
  "cells": [
    {
      "cell_type": "markdown",
      "source": [
        "**1: Buat DataFrame sederhana di Spark dan eksplorasi beberapa fungsi dasar yang tersedia. Membuat DataFrame sederhana di Spark dan eksplorasi beberapa fungsi dasar yang tersedia.**"
      ],
      "metadata": {
        "id": "d_7_W9ydGp1r"
      }
    },
    {
      "cell_type": "code",
      "source": [
        "from pyspark.sql import SparkSession\n",
        "spark = SparkSession.builder.appName('HandsOnPertemuan3').getOrCreate()\n",
        "\n",
        "data = [('James', 'Sales', 3000),\n",
        "        ('Michael', 'Sales', 4600),\n",
        "        ('Robert', 'Sales', 4100),\n",
        "        ('Lia', 'Finance', 3500)],\n",
        "columns = ['EmployeeName', 'Department', 'Salary']\n",
        "\n",
        "df = spark.createDataFrame(data, schema=columns)\n",
        "df.show()"
      ],
      "metadata": {
        "colab": {
          "base_uri": "https://localhost:8080/"
        },
        "id": "k4nZ8CfkGnw8",
        "outputId": "0c6c2b4c-cc24-47fb-c88c-6da9ae8b20be"
      },
      "execution_count": 3,
      "outputs": [
        {
          "output_type": "stream",
          "name": "stdout",
          "text": [
            "+------------+----------+------+\n",
            "|EmployeeName|Department|Salary|\n",
            "+------------+----------+------+\n",
            "|       James|     Sales|  3000|\n",
            "|     Michael|     Sales|  4600|\n",
            "|      Robert|     Sales|  4100|\n",
            "|         Lia|   Finance|  3500|\n",
            "+------------+----------+------+\n",
            "\n"
          ]
        }
      ]
    },
    {
      "cell_type": "markdown",
      "source": [
        "**2: Transformasi Dasar dengan DataFrames. <br>\n",
        " Gunakan operasi filter, select, groupBy untuk mengekstrak informasi dari data, serta lakukan agregasi data untuk mendapatkan insight tentang dataset menggunakan perintah seperti mean, max, sum.**"
      ],
      "metadata": {
        "id": "n672yknHGypp"
      }
    },
    {
      "cell_type": "code",
      "source": [
        "print (\"Hasil Select (Untuk melihat data tertentu seperti nama pegawai dan gaji)\")\n",
        "df.select('EmployeeName', 'Salary').show()\n",
        "print (\"Hasil Filter\")\n",
        "df.filter(df['Salary'] > 3000).show()\n",
        "print (\"Hasil GroupBy dan Average (rata-rata)\")\n",
        "df.groupBy('Department').avg('Salary').show()"
      ],
      "metadata": {
        "colab": {
          "base_uri": "https://localhost:8080/"
        },
        "id": "BehWte6tGnpO",
        "outputId": "c84728ec-d9c1-41fd-a139-da73c579fd5f"
      },
      "execution_count": 5,
      "outputs": [
        {
          "output_type": "stream",
          "name": "stdout",
          "text": [
            "Hasil Select (Untuk melihat data tertentu seperti nama pegawai dan gaji)\n",
            "+------------+------+\n",
            "|EmployeeName|Salary|\n",
            "+------------+------+\n",
            "|       James|  3000|\n",
            "|     Michael|  4600|\n",
            "|      Robert|  4100|\n",
            "|         Lia|  3500|\n",
            "+------------+------+\n",
            "\n",
            "Hasil Filter\n",
            "+------------+----------+------+\n",
            "|EmployeeName|Department|Salary|\n",
            "+------------+----------+------+\n",
            "|     Michael|     Sales|  4600|\n",
            "|      Robert|     Sales|  4100|\n",
            "|         Lia|   Finance|  3500|\n",
            "+------------+----------+------+\n",
            "\n",
            "Hasil GroupBy dan Average (rata-rata)\n",
            "+----------+-----------+\n",
            "|Department|avg(Salary)|\n",
            "+----------+-----------+\n",
            "|     Sales|     3900.0|\n",
            "|   Finance|     3500.0|\n",
            "+----------+-----------+\n",
            "\n"
          ]
        }
      ]
    },
    {
      "cell_type": "markdown",
      "source": [
        "**3. Bekerja dengan Tipe Data Kompleks <br> Eksplorasi bagaimana mengolah tipe data kompleks dalam Spark DataFrames.**"
      ],
      "metadata": {
        "id": "F0yIhcMHGzbA"
      }
    },
    {
      "cell_type": "code",
      "source": [
        "print (\"Menampilkan data frame dengan bonus salary\")\n",
        "df_bonus = df.withColumn('SalaryBonus', df['Salary'] * 0.1)\n",
        "df_bonus.show()\n",
        "print (\"Mneampilkan dataframse dengan total kompensasi\")\n",
        "df_total = df_bonus.withColumn('TotalCompensation', df_bonus['Salary'] + df_bonus['SalaryBonus'])\n",
        "df_total.show()"
      ],
      "metadata": {
        "colab": {
          "base_uri": "https://localhost:8080/"
        },
        "id": "pSNkgVFNGngK",
        "outputId": "b0990054-b6bb-4057-b17a-8dbc3ebca939"
      },
      "execution_count": 6,
      "outputs": [
        {
          "output_type": "stream",
          "name": "stdout",
          "text": [
            "Menampilkan data frame dengan bonus salary\n",
            "+------------+----------+------+-----------+\n",
            "|EmployeeName|Department|Salary|SalaryBonus|\n",
            "+------------+----------+------+-----------+\n",
            "|       James|     Sales|  3000|      300.0|\n",
            "|     Michael|     Sales|  4600|      460.0|\n",
            "|      Robert|     Sales|  4100|      410.0|\n",
            "|         Lia|   Finance|  3500|      350.0|\n",
            "+------------+----------+------+-----------+\n",
            "\n",
            "Mneampilkan dataframse dengan total kompensasi\n",
            "+------------+----------+------+-----------+-----------------+\n",
            "|EmployeeName|Department|Salary|SalaryBonus|TotalCompensation|\n",
            "+------------+----------+------+-----------+-----------------+\n",
            "|       James|     Sales|  3000|      300.0|           3300.0|\n",
            "|     Michael|     Sales|  4600|      460.0|           5060.0|\n",
            "|      Robert|     Sales|  4100|      410.0|           4510.0|\n",
            "|         Lia|   Finance|  3500|      350.0|           3850.0|\n",
            "+------------+----------+------+-----------+-----------------+\n",
            "\n"
          ]
        }
      ]
    },
    {
      "cell_type": "markdown",
      "source": [
        "**4. Operasi Data Lanjutan <br>\n",
        "Menggunakan Spark untuk operasi lanjutan seperti window functions, user-defined functions (UDFs), dan mengoptimalkan query.\n",
        "Mengimplementasikan window function untuk menghitung running totals atau rangkings.**"
      ],
      "metadata": {
        "id": "1cLBdtcFGzvE"
      }
    },
    {
      "cell_type": "code",
      "source": [
        "from pyspark.sql.window import Window\n",
        "from pyspark.sql import functions as F\n",
        "\n",
        "windowSpec = Window.partitionBy('Department').orderBy('Salary')\n",
        "df.withColumn('Rank', F.rank().over(windowSpec)).show()"
      ],
      "metadata": {
        "colab": {
          "base_uri": "https://localhost:8080/"
        },
        "id": "OaUG0wLSGnAV",
        "outputId": "159331a8-cdc1-4583-a47f-d9a3baedc94d"
      },
      "execution_count": 7,
      "outputs": [
        {
          "output_type": "stream",
          "name": "stdout",
          "text": [
            "+------------+----------+------+----+\n",
            "|EmployeeName|Department|Salary|Rank|\n",
            "+------------+----------+------+----+\n",
            "|         Lia|   Finance|  3500|   1|\n",
            "|       James|     Sales|  3000|   1|\n",
            "|      Robert|     Sales|  4100|   2|\n",
            "|     Michael|     Sales|  4600|   3|\n",
            "+------------+----------+------+----+\n",
            "\n"
          ]
        }
      ]
    },
    {
      "cell_type": "markdown",
      "source": [
        "**Tugas 5: Studi Kasus Mandiri <br>\n",
        "Review apa yang telah dipelajari tentang pemrosesan data menggunakan Spark dan eksplorasi teknik lebih lanjut untuk mengoptimalkan pemrosesan pada data.**"
      ],
      "metadata": {
        "id": "v9ZNdWnKG0Cy"
      }
    },
    {
      "cell_type": "code",
      "execution_count": 8,
      "metadata": {
        "colab": {
          "base_uri": "https://localhost:8080/"
        },
        "id": "_GzQPFUcGbhS",
        "outputId": "fbdf4b77-9f75-4842-c555-a7cd70fe21cf"
      },
      "outputs": [
        {
          "output_type": "stream",
          "name": "stdout",
          "text": [
            "Requirement already satisfied: pyspark in /usr/local/lib/python3.12/dist-packages (3.5.1)\n",
            "Requirement already satisfied: py4j==0.10.9.7 in /usr/local/lib/python3.12/dist-packages (from pyspark) (0.10.9.7)\n"
          ]
        }
      ],
      "source": [
        "!pip install pyspark"
      ]
    },
    {
      "cell_type": "code",
      "source": [
        "from google.colab import drive\n",
        "drive.mount('/content/drive')"
      ],
      "metadata": {
        "colab": {
          "base_uri": "https://localhost:8080/"
        },
        "id": "LXRB4uEPc9HW",
        "outputId": "67f0d724-5bde-4b83-fb05-184f7b40c18c"
      },
      "execution_count": 10,
      "outputs": [
        {
          "output_type": "stream",
          "name": "stdout",
          "text": [
            "Mounted at /content/drive\n"
          ]
        }
      ]
    },
    {
      "cell_type": "markdown",
      "source": [
        "Eksplorasi"
      ],
      "metadata": {
        "id": "AbgTxWzBd9l6"
      }
    },
    {
      "cell_type": "code",
      "source": [
        "# Mengimpor library yang dibutuhkan\n",
        "from pyspark.sql import SparkSession\n",
        "from pyspark.sql import functions as F\n",
        "\n",
        "# Membuat SparkSession\n",
        "spark = SparkSession.builder.appName(\"LaporanAnalisisArtis\").getOrCreate()\n",
        "\n",
        "# Path ke file di Google Drive (sesuaikan jika perlu)\n",
        "file_path = '/content/drive/MyDrive/Datasets/Most Streamed Spotify Songs 2024.csv'\n",
        "\n",
        "# Memuat data\n",
        "artists_df = spark.read.csv(file_path, header=True, inferSchema=True)\n",
        "\n",
        "# Menampilkan skema untuk memahami struktur data\n",
        "print(\"Schema Dataset:\")\n",
        "artists_df.printSchema()\n",
        "\n",
        "# Menampilkan 5 baris pertama data\n",
        "print(\"\\nContoh Data:\")\n",
        "artists_df.show(15, truncate=False)"
      ],
      "metadata": {
        "colab": {
          "base_uri": "https://localhost:8080/"
        },
        "id": "4etHqdodd9Te",
        "outputId": "74f796a7-cb46-44fa-b78c-d1df9d310606"
      },
      "execution_count": 7,
      "outputs": [
        {
          "output_type": "stream",
          "name": "stdout",
          "text": [
            "Schema Dataset:\n",
            "root\n",
            " |-- Track: string (nullable = true)\n",
            " |-- Album Name: string (nullable = true)\n",
            " |-- Artist: string (nullable = true)\n",
            " |-- Release Date: string (nullable = true)\n",
            " |-- ISRC: string (nullable = true)\n",
            " |-- All Time Rank: string (nullable = true)\n",
            " |-- Track Score: double (nullable = true)\n",
            " |-- Spotify Streams: string (nullable = true)\n",
            " |-- Spotify Playlist Count: string (nullable = true)\n",
            " |-- Spotify Playlist Reach: string (nullable = true)\n",
            " |-- Spotify Popularity: integer (nullable = true)\n",
            " |-- YouTube Views: string (nullable = true)\n",
            " |-- YouTube Likes: string (nullable = true)\n",
            " |-- TikTok Posts: string (nullable = true)\n",
            " |-- TikTok Likes: string (nullable = true)\n",
            " |-- TikTok Views: string (nullable = true)\n",
            " |-- YouTube Playlist Reach: string (nullable = true)\n",
            " |-- Apple Music Playlist Count: integer (nullable = true)\n",
            " |-- AirPlay Spins: string (nullable = true)\n",
            " |-- SiriusXM Spins: string (nullable = true)\n",
            " |-- Deezer Playlist Count: integer (nullable = true)\n",
            " |-- Deezer Playlist Reach: string (nullable = true)\n",
            " |-- Amazon Playlist Count: integer (nullable = true)\n",
            " |-- Pandora Streams: string (nullable = true)\n",
            " |-- Pandora Track Stations: string (nullable = true)\n",
            " |-- Soundcloud Streams: string (nullable = true)\n",
            " |-- Shazam Counts: string (nullable = true)\n",
            " |-- TIDAL Popularity: string (nullable = true)\n",
            " |-- Explicit Track: integer (nullable = true)\n",
            "\n",
            "\n",
            "Contoh Data:\n",
            "+-------------------------------------+--------------------------------------------+--------------+------------+------------+-------------+-----------+---------------+----------------------+----------------------+------------------+-------------+-------------+------------+-------------+--------------+----------------------+--------------------------+-------------+--------------+---------------------+---------------------+---------------------+---------------+----------------------+------------------+-------------+----------------+--------------+\n",
            "|Track                                |Album Name                                  |Artist        |Release Date|ISRC        |All Time Rank|Track Score|Spotify Streams|Spotify Playlist Count|Spotify Playlist Reach|Spotify Popularity|YouTube Views|YouTube Likes|TikTok Posts|TikTok Likes |TikTok Views  |YouTube Playlist Reach|Apple Music Playlist Count|AirPlay Spins|SiriusXM Spins|Deezer Playlist Count|Deezer Playlist Reach|Amazon Playlist Count|Pandora Streams|Pandora Track Stations|Soundcloud Streams|Shazam Counts|TIDAL Popularity|Explicit Track|\n",
            "+-------------------------------------+--------------------------------------------+--------------+------------+------------+-------------+-----------+---------------+----------------------+----------------------+------------------+-------------+-------------+------------+-------------+--------------+----------------------+--------------------------+-------------+--------------+---------------------+---------------------+---------------------+---------------+----------------------+------------------+-------------+----------------+--------------+\n",
            "|MILLION DOLLAR BABY                  |Million Dollar Baby - Single                |Tommy Richman |4/26/2024   |QM24S2402528|1            |725.4      |390,470,936    |30,716                |196,631,588           |92                |84,274,754   |1,713,126    |5,767,700   |651,565,900  |5,332,281,936 |150,597,040           |210                       |40,975       |684           |62                   |17,598,718           |114                  |18,004,655     |22,931                |4,818,457         |2,669,262    |NULL            |0             |\n",
            "|Not Like Us                          |Not Like Us                                 |Kendrick Lamar|5/4/2024    |USUG12400910|2            |545.9      |323,703,884    |28,113                |174,597,137           |92                |116,347,040  |3,486,739    |674,700     |35,223,547   |208,339,025   |156,380,351           |188                       |40,778       |3             |67                   |10,422,430           |111                  |7,780,028      |28,444                |6,623,075         |1,118,279    |NULL            |1             |\n",
            "|i like the way you kiss me           |I like the way you kiss me                  |Artemas       |3/19/2024   |QZJ842400387|3            |538.4      |601,309,283    |54,331                |211,607,669           |92                |122,599,116  |2,228,730    |3,025,400   |275,154,237  |3,369,120,610 |373,784,955           |190                       |74,333       |536           |136                  |36,321,847           |172                  |5,022,621      |5,639                 |7,208,651         |5,285,340    |NULL            |0             |\n",
            "|Flowers                              |Flowers - Single                            |Miley Cyrus   |1/12/2023   |USSM12209777|4            |444.9      |2,031,280,633  |269,802               |136,569,078           |85                |1,096,100,899|10,629,796   |7,189,811   |1,078,757,968|14,603,725,994|3,351,188,582         |394                       |1,474,799    |2,182         |264                  |24,684,248           |210                  |190,260,277    |203,384               |NULL              |11,822,942   |NULL            |0             |\n",
            "|Houdini                              |Houdini                                     |Eminem        |5/31/2024   |USUG12403398|5            |423.3      |107,034,922    |7,223                 |151,469,874           |88                |77,373,957   |3,670,188    |16,400      |NULL         |NULL          |112,763,851           |182                       |12,185       |1             |82                   |17,660,624           |105                  |4,493,884      |7,006                 |207,179           |457,017      |NULL            |1             |\n",
            "|Lovin On Me                          |Lovin On Me                                 |Jack Harlow   |11/10/2023  |USAT22311371|6            |410.1      |670,665,438    |105,892               |175,421,034           |83                |131,148,091  |1,392,593    |4,202,367   |214,943,489  |2,938,686,633 |2,867,222,632         |138                       |522,042      |4,654         |86                   |17,167,254           |152                  |138,529,362    |50,982                |9,438,601         |4,517,131    |NULL            |1             |\n",
            "|Beautiful Things                     |Beautiful Things                            |Benson Boone  |1/18/2024   |USWB12307016|7            |407.2      |900,158,751    |73,118                |201,585,714           |86                |308,723,145  |4,120,760    |NULL        |29,584,940   |534,915,313   |4,601,579,812         |280                       |383,478      |429           |168                  |48,197,850           |154                  |65,447,476     |57,372                |NULL              |9,990,302    |NULL            |0             |\n",
            "|Gata Only                            |Gata Only                                   |FloyyMenor    |2/2/2024    |QZL382406049|8            |375.8      |675,079,153    |40,094                |211,236,940           |92                |228,382,568  |1,439,495    |3,500,000   |338,546,668  |3,804,584,163 |2,112,581,620         |160                       |17,221       |30            |87                   |33,245,595           |53                   |3,372,428      |5,762                 |NULL              |6,063,523    |NULL            |1             |\n",
            "|Danza Kuduro - Cover                 |��������������������� - ������������������ -|MUSIC LAB JPN |6/9/2024    |TCJPA2463708|9            |355.7      |1,653,018,119  |1                     |15                    |NULL              |NULL         |NULL         |NULL        |NULL         |NULL          |NULL                  |NULL                      |NULL         |NULL          |NULL                 |NULL                 |NULL                 |NULL           |NULL                  |NULL              |NULL         |NULL            |1             |\n",
            "|BAND4BAND (feat. Lil Baby)           |BAND4BAND (feat. Lil Baby)                  |Central Cee   |5/23/2024   |USSM12404354|10           |330.6      |90,676,573     |10,400                |184,199,419           |86                |32,735,244   |988,682      |325,800     |121,574,500  |974,656,200   |174,706,874           |191                       |3,823        |117           |78                   |10,800,098           |92                   |1,005,626      |842                   |3,679,709         |666,302      |NULL            |1             |\n",
            "|I Had Some Help (feat. Morgan Wallen)|I Had Some Help                             |Post Malone   |5/10/2024   |USUM72404990|11           |322.1      |250,080,413    |16,219                |168,766,158           |91                |32,229,063   |550,191      |NULL        |184,500      |2,100,000     |327,130,768           |157                       |62,312       |71            |60                   |12,009,073           |114                  |23,155,471     |21,172                |1,594,605         |963,413      |NULL            |1             |\n",
            "|The Door                             |The Door                                    |Teddy Swims   |6/14/2024   |USWB12402486|12           |320.2      |111,155,129    |2                     |263,767               |NULL              |NULL         |NULL         |NULL        |NULL         |NULL          |NULL                  |NULL                      |NULL         |NULL          |NULL                 |NULL                 |2                    |NULL           |NULL                  |NULL              |NULL         |NULL            |1             |\n",
            "|LUNCH                                |HIT ME HARD AND SOFT                        |Billie Eilish |5/17/2024   |USUM72401991|13           |316.3      |221,636,195    |13,800                |197,280,692           |92                |40,022,524   |1,307,290    |195,300     |45,889,000   |360,017,000   |342,107,131           |244                       |41,344       |45            |138                  |38,243,636           |163                  |1,354,692      |1,219                 |1,313,357         |450,344      |NULL            |0             |\n",
            "|Like That                            |WE DON'T TRUST YOU                          |Future        |3/22/2024   |USSM12402041|14           |308.2      |355,186,436    |43,025                |108,168,634           |88                |98,081,493   |1,456,177    |NULL        |NULL         |NULL          |174,491,415           |153                       |90,237       |3             |55                   |3,001,826            |109                  |26,252,264     |18,364                |12,038,034        |1,963,314    |NULL            |1             |\n",
            "|bathroom floor                       |bathroom floor                              |Kids With Buns|10/7/2022   |NLC242100307|15           |301.6      |297,185        |277                   |24,445                |12                |6,736,502,312|16,785,489   |3           |1,088        |22,234        |NULL                  |1                         |1,057        |NULL          |NULL                 |NULL                 |NULL                 |NULL           |NULL                  |NULL              |3,288        |NULL            |0             |\n",
            "+-------------------------------------+--------------------------------------------+--------------+------------+------------+-------------+-----------+---------------+----------------------+----------------------+------------------+-------------+-------------+------------+-------------+--------------+----------------------+--------------------------+-------------+--------------+---------------------+---------------------+---------------------+---------------+----------------------+------------------+-------------+----------------+--------------+\n",
            "only showing top 15 rows\n",
            "\n"
          ]
        }
      ]
    },
    {
      "cell_type": "markdown",
      "source": [
        "**Pembersihan dan Transformasi Data**"
      ],
      "metadata": {
        "id": "S_UIJcBWF9Aa"
      }
    },
    {
      "cell_type": "code",
      "source": [
        "from pyspark.sql import SparkSession\n",
        "from pyspark.sql import functions as F\n",
        "from pyspark.sql.types import LongType\n",
        "\n",
        "spark = SparkSession.builder.appName(\"AnalisisLaguGlobal\").getOrCreate()\n",
        "df = spark.read.csv(\"/content/drive/MyDrive/Datasets/Most Streamed Spotify Songs 2024.csv\", header=True, escape=\"\\\"\", encoding=\"UTF-8\")\n",
        "\n",
        "# 1. Definisikan semua kolom yang perlu dibersihkan (dari string ke angka)\n",
        "cols_to_clean_and_cast = [\n",
        "    \"Spotify Streams\", \"Spotify Playlist Count\", \"Spotify Playlist Reach\",\n",
        "    \"YouTube Views\", \"YouTube Likes\", \"TikTok Posts\", \"TikTok Likes\", \"TikTok Views\",\n",
        "    \"YouTube Playlist Reach\", \"AirPlay Spins\", \"SiriusXM Spins\", \"Deezer Playlist Reach\",\n",
        "    \"Pandora Streams\", \"Pandora Track Stations\", \"Soundcloud Streams\", \"Shazam Counts\"\n",
        "]\n",
        "\n",
        "# 2. Lakukan loop untuk membersihkan setiap kolom\n",
        "df_cleaned = df\n",
        "for col_name in cols_to_clean_and_cast:\n",
        "    df_cleaned = df_cleaned.withColumn(col_name, F.regexp_replace(F.col(col_name), \",\", \"\").cast(LongType()))\n",
        "\n",
        "# 3. Ubah kolom 'Release Date' menjadi tipe data tanggal yang benar\n",
        "df_cleaned = df_cleaned.withColumn(\"ReleaseDate_dt\", F.to_date(F.col(\"Release Date\"), \"M/d/yyyy\"))\n",
        "\n",
        "# 4. Tampilkan skema baru untuk verifikasi\n",
        "print(\"Schema Setelah Pembersihan dan Transformasi:\")\n",
        "df_cleaned.printSchema()"
      ],
      "metadata": {
        "colab": {
          "base_uri": "https://localhost:8080/"
        },
        "id": "Oaa91IPVF8qi",
        "outputId": "0088a031-b2be-40e3-dcc4-d3096831426d"
      },
      "execution_count": 28,
      "outputs": [
        {
          "output_type": "stream",
          "name": "stdout",
          "text": [
            "Schema Setelah Pembersihan dan Transformasi:\n",
            "root\n",
            " |-- Track: string (nullable = true)\n",
            " |-- Album Name: string (nullable = true)\n",
            " |-- Artist: string (nullable = true)\n",
            " |-- Release Date: string (nullable = true)\n",
            " |-- ISRC: string (nullable = true)\n",
            " |-- All Time Rank: string (nullable = true)\n",
            " |-- Track Score: string (nullable = true)\n",
            " |-- Spotify Streams: long (nullable = true)\n",
            " |-- Spotify Playlist Count: long (nullable = true)\n",
            " |-- Spotify Playlist Reach: long (nullable = true)\n",
            " |-- Spotify Popularity: string (nullable = true)\n",
            " |-- YouTube Views: long (nullable = true)\n",
            " |-- YouTube Likes: long (nullable = true)\n",
            " |-- TikTok Posts: long (nullable = true)\n",
            " |-- TikTok Likes: long (nullable = true)\n",
            " |-- TikTok Views: long (nullable = true)\n",
            " |-- YouTube Playlist Reach: long (nullable = true)\n",
            " |-- Apple Music Playlist Count: string (nullable = true)\n",
            " |-- AirPlay Spins: long (nullable = true)\n",
            " |-- SiriusXM Spins: long (nullable = true)\n",
            " |-- Deezer Playlist Count: string (nullable = true)\n",
            " |-- Deezer Playlist Reach: long (nullable = true)\n",
            " |-- Amazon Playlist Count: string (nullable = true)\n",
            " |-- Pandora Streams: long (nullable = true)\n",
            " |-- Pandora Track Stations: long (nullable = true)\n",
            " |-- Soundcloud Streams: long (nullable = true)\n",
            " |-- Shazam Counts: long (nullable = true)\n",
            " |-- TIDAL Popularity: string (nullable = true)\n",
            " |-- Explicit Track: string (nullable = true)\n",
            " |-- ReleaseDate_dt: date (nullable = true)\n",
            "\n"
          ]
        }
      ]
    },
    {
      "cell_type": "markdown",
      "source": [
        "**Analisis 1: Lagu dengan Jangkauan Digital Terbesar**"
      ],
      "metadata": {
        "id": "eMI47wagH2qg"
      }
    },
    {
      "cell_type": "code",
      "source": [
        "df_with_total_reach = df_cleaned.withColumn(\"TotalReach\",\n",
        "    F.coalesce(F.col(\"Spotify Streams\"), F.lit(0)) +\n",
        "    F.coalesce(F.col(\"YouTube Views\"), F.lit(0)) +\n",
        "    F.coalesce(F.col(\"TikTok Views\"), F.lit(0))\n",
        ")\n",
        "\n",
        "print(\"\\n--- Analisis 1: Top 10 Lagu dengan Jangkauan Digital Terbesar ---\")\n",
        "top_reach_songs = df_with_total_reach.select(\"Track\", \"Artist\", \"TotalReach\") \\\n",
        "                                     .orderBy(F.col(\"TotalReach\").desc())\n",
        "top_reach_songs.show(10, truncate=False)"
      ],
      "metadata": {
        "colab": {
          "base_uri": "https://localhost:8080/"
        },
        "id": "RX6BrI4QHnXt",
        "outputId": "db48bc2b-c8da-4ac9-b11b-9a4d660a2362"
      },
      "execution_count": 24,
      "outputs": [
        {
          "output_type": "stream",
          "name": "stdout",
          "text": [
            "\n",
            "--- Analisis 1: Top 10 Lagu dengan Jangkauan Digital Terbesar ---\n",
            "+-------------------------+------------------------+------------+\n",
            "|Track                    |Artist                  |TotalReach  |\n",
            "+-------------------------+------------------------+------------+\n",
            "|Monkeys Spinning Monkeys |Kevin MacLeod           |233255246106|\n",
            "|Love You So              |The King Khan & BBQ Show|214867886547|\n",
            "|Oh No                    |Kreepa                  |61146825689 |\n",
            "|Funny Song               |Cavendish Music         |38391303771 |\n",
            "|Aesthetic                |Tollan Kim              |33879624512 |\n",
            "|Spongebob                |Dante9k                 |33360300982 |\n",
            "|She Share Story          |Shayne Orok             |33202142804 |\n",
            "|STAY (with Justin Bieber)|The Kid LAROI           |28076450960 |\n",
            "|Pieces                   |Danilo Stankovic        |28038445729 |\n",
            "|love nwantiti (ah ah ah) |CKay                    |25918838114 |\n",
            "+-------------------------+------------------------+------------+\n",
            "only showing top 10 rows\n",
            "\n"
          ]
        }
      ]
    },
    {
      "cell_type": "markdown",
      "source": [
        "**Analisis 2: Artis Paling Dominan di Tahun 2024.**"
      ],
      "metadata": {
        "id": "-hEiN5cvITxj"
      }
    },
    {
      "cell_type": "code",
      "source": [
        "from pyspark.sql.window import Window\n",
        "df_2024 = df_cleaned.filter(F.year(F.col(\"ReleaseDate_dt\")) == 2024)\n",
        "\n",
        "print(\"\\n--- Analisis 2: Top 10 Artis Paling Dominan di 2024 (Berdasarkan Spotify Streams) ---\")\n",
        "top_artists_2024 = df_2024.groupBy(\"Artist\") \\\n",
        "                          .agg(F.sum(\"Spotify Streams\").alias(\"TotalSpotifyStreams\")) \\\n",
        "                          .orderBy(F.col(\"TotalSpotifyStreams\").desc())\n",
        "top_artists_2024.show(10, truncate=False)"
      ],
      "metadata": {
        "colab": {
          "base_uri": "https://localhost:8080/"
        },
        "id": "eYLJ-lFfIWp6",
        "outputId": "c3d0e501-7f12-42c7-cbf1-fbd8281f8d64"
      },
      "execution_count": 25,
      "outputs": [
        {
          "output_type": "stream",
          "name": "stdout",
          "text": [
            "\n",
            "--- Analisis 2: Top 10 Artis Paling Dominan di 2024 (Berdasarkan Spotify Streams) ---\n",
            "+-----------------+-------------------+\n",
            "|Artist           |TotalSpotifyStreams|\n",
            "+-----------------+-------------------+\n",
            "|MUSIC LAB JPN    |6619744370         |\n",
            "|Linkin Park      |6195495729         |\n",
            "|Taylor Swift     |3545613606         |\n",
            "|Ariana Grande    |2056932352         |\n",
            "|ati2x06          |1812548791         |\n",
            "|Sabrina Carpenter|1681170228         |\n",
            "|LOVE BGM JPN     |1645079292         |\n",
            "|21 Savage        |1475807584         |\n",
            "|Future           |1452788578         |\n",
            "|DJ Laxman        |1389772733         |\n",
            "+-----------------+-------------------+\n",
            "only showing top 10 rows\n",
            "\n"
          ]
        }
      ]
    },
    {
      "cell_type": "markdown",
      "source": [
        "**Analisis 3: Lagu Viral di TikTok vs. Spotify (Mencari Anomali)**"
      ],
      "metadata": {
        "id": "6P6beLBZIY6A"
      }
    },
    {
      "cell_type": "code",
      "source": [
        "window_tiktok = Window.orderBy(F.col(\"TikTok Views\").desc())\n",
        "window_spotify = Window.orderBy(F.col(\"Spotify Streams\").desc())\n",
        "\n",
        "df_ranked = df_cleaned.withColumn(\"TikTokRank\", F.rank().over(window_tiktok)) \\\n",
        "                      .withColumn(\"SpotifyRank\", F.rank().over(window_spotify))\n",
        "\n",
        "df_anomaly = df_ranked.withColumn(\"RankDifference\", F.col(\"SpotifyRank\") - F.col(\"TikTokRank\")) \\\n",
        "                      .filter(F.col(\"TikTok Views\").isNotNull() & F.col(\"Spotify Streams\").isNotNull()) \\\n",
        "                      .orderBy(F.col(\"RankDifference\").desc())\n",
        "\n",
        "print(\"\\n--- Analisis 3: Lagu yang Jauh Lebih Populer di TikTok Dibanding Spotify ---\")\n",
        "df_anomaly.select(\"Track\", \"Artist\", \"TikTokRank\", \"SpotifyRank\", \"RankDifference\").show(10, truncate=False)"
      ],
      "metadata": {
        "colab": {
          "base_uri": "https://localhost:8080/"
        },
        "id": "FaEOkhCgIToQ",
        "outputId": "a24a2f46-3bb8-4fac-eb80-0b212783ae0d"
      },
      "execution_count": 27,
      "outputs": [
        {
          "output_type": "stream",
          "name": "stdout",
          "text": [
            "\n",
            "--- Analisis 3: Lagu yang Jauh Lebih Populer di TikTok Dibanding Spotify ---\n",
            "+----------------------------------------+--------------------------------+----------+-----------+--------------+\n",
            "|Track                                   |Artist                          |TikTokRank|SpotifyRank|RankDifference|\n",
            "+----------------------------------------+--------------------------------+----------+-----------+--------------+\n",
            "|Sunny Day                               |Matteo Rossanese                |28        |4456       |4428          |\n",
            "|Very Cute Melody by Marimba Tone (39813)|mitsu sound                     |62        |4483       |4421          |\n",
            "|Original som fan                        |OP                              |37        |4413       |4376          |\n",
            "|Spongebob                               |Dante9k                         |6         |4316       |4310          |\n",
            "|Chill Vibes                             |Tollan Kim                      |31        |4308       |4277          |\n",
            "|������������������                      |���������������(���������������)|90        |4333       |4243          |\n",
            "|Breakfast Challenge Song (Slowly)       |SPENCE                          |96        |4320       |4224          |\n",
            "|Cute                                    |Aurel Surya Lie                 |149       |4373       |4224          |\n",
            "|Pieces                                  |Danilo Stankovic                |8         |4201       |4193          |\n",
            "|Aesthetic                               |Tollan Kim                      |5         |4194       |4189          |\n",
            "+----------------------------------------+--------------------------------+----------+-----------+--------------+\n",
            "only showing top 10 rows\n",
            "\n"
          ]
        }
      ]
    }
  ]
}